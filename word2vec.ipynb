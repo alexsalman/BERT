{
  "nbformat": 4,
  "nbformat_minor": 0,
  "metadata": {
    "colab": {
      "name": "word2vec.ipynb",
      "provenance": [],
      "collapsed_sections": [],
      "machine_shape": "hm"
    },
    "kernelspec": {
      "name": "python3",
      "display_name": "Python 3"
    },
    "language_info": {
      "name": "python"
    },
    "accelerator": "GPU"
  },
  "cells": [
    {
      "cell_type": "code",
      "execution_count": 1,
      "metadata": {
        "id": "flXbvxzT5U_p"
      },
      "outputs": [],
      "source": [
        "# !pip install gensim\n",
        "# !pip install python-Levenshtein"
      ]
    },
    {
      "cell_type": "code",
      "source": [
        "# https://radimrehurek.com/gensim/\n",
        "import os\n",
        "import gensim\n",
        "import pandas as pd\n",
        "from google.colab import drive"
      ],
      "metadata": {
        "id": "dP2OK0C65pNC"
      },
      "execution_count": 2,
      "outputs": []
    },
    {
      "cell_type": "code",
      "source": [
        "drive.mount('/content/gdrive/', force_remount=True)\n",
        "gdrive_path = '/content/gdrive' + '/My Drive/'\n",
        "os.chdir(gdrive_path)\n",
        "os.getcwd()"
      ],
      "metadata": {
        "colab": {
          "base_uri": "https://localhost:8080/",
          "height": 53
        },
        "id": "J15_xoxQ6_KL",
        "outputId": "39c6fa7a-afce-4f36-c51b-371209c124cf"
      },
      "execution_count": 3,
      "outputs": [
        {
          "output_type": "stream",
          "name": "stdout",
          "text": [
            "Mounted at /content/gdrive/\n"
          ]
        },
        {
          "output_type": "execute_result",
          "data": {
            "text/plain": [
              "'/content/gdrive/My Drive'"
            ],
            "application/vnd.google.colaboratory.intrinsic+json": {
              "type": "string"
            }
          },
          "metadata": {},
          "execution_count": 3
        }
      ]
    },
    {
      "cell_type": "code",
      "source": [
        "df = pd.read_json(\"reviews_Cell_Phones_and_Accessories_5.json\", lines=True)\n",
        "df.head()"
      ],
      "metadata": {
        "colab": {
          "base_uri": "https://localhost:8080/",
          "height": 206
        },
        "id": "luuHWhVL7r4l",
        "outputId": "088d8c66-0a0d-4b2f-e770-a49b47ae4a05"
      },
      "execution_count": 4,
      "outputs": [
        {
          "output_type": "execute_result",
          "data": {
            "text/plain": [
              "       reviewerID        asin      reviewerName helpful  \\\n",
              "0  A30TL5EWN6DFXT  120401325X         christina  [0, 0]   \n",
              "1   ASY55RVNIL0UD  120401325X          emily l.  [0, 0]   \n",
              "2  A2TMXE2AFO7ONB  120401325X             Erica  [0, 0]   \n",
              "3   AWJ0WZQYMYFQ4  120401325X                JM  [4, 4]   \n",
              "4   ATX7CZYFXI1KW  120401325X  patrice m rogoza  [2, 3]   \n",
              "\n",
              "                                          reviewText  overall  \\\n",
              "0  They look good and stick good! I just don't li...        4   \n",
              "1  These stickers work like the review says they ...        5   \n",
              "2  These are awesome and make my phone look so st...        5   \n",
              "3  Item arrived in great time and was in perfect ...        4   \n",
              "4  awesome! stays on, and looks great. can be use...        5   \n",
              "\n",
              "                                     summary  unixReviewTime   reviewTime  \n",
              "0                                 Looks Good      1400630400  05 21, 2014  \n",
              "1                      Really great product.      1389657600  01 14, 2014  \n",
              "2                             LOVE LOVE LOVE      1403740800  06 26, 2014  \n",
              "3                                      Cute!      1382313600  10 21, 2013  \n",
              "4  leopard home button sticker for iphone 4s      1359849600   02 3, 2013  "
            ],
            "text/html": [
              "\n",
              "  <div id=\"df-0427a4a0-ab0d-41ea-9323-a4ddeb94947a\">\n",
              "    <div class=\"colab-df-container\">\n",
              "      <div>\n",
              "<style scoped>\n",
              "    .dataframe tbody tr th:only-of-type {\n",
              "        vertical-align: middle;\n",
              "    }\n",
              "\n",
              "    .dataframe tbody tr th {\n",
              "        vertical-align: top;\n",
              "    }\n",
              "\n",
              "    .dataframe thead th {\n",
              "        text-align: right;\n",
              "    }\n",
              "</style>\n",
              "<table border=\"1\" class=\"dataframe\">\n",
              "  <thead>\n",
              "    <tr style=\"text-align: right;\">\n",
              "      <th></th>\n",
              "      <th>reviewerID</th>\n",
              "      <th>asin</th>\n",
              "      <th>reviewerName</th>\n",
              "      <th>helpful</th>\n",
              "      <th>reviewText</th>\n",
              "      <th>overall</th>\n",
              "      <th>summary</th>\n",
              "      <th>unixReviewTime</th>\n",
              "      <th>reviewTime</th>\n",
              "    </tr>\n",
              "  </thead>\n",
              "  <tbody>\n",
              "    <tr>\n",
              "      <th>0</th>\n",
              "      <td>A30TL5EWN6DFXT</td>\n",
              "      <td>120401325X</td>\n",
              "      <td>christina</td>\n",
              "      <td>[0, 0]</td>\n",
              "      <td>They look good and stick good! I just don't li...</td>\n",
              "      <td>4</td>\n",
              "      <td>Looks Good</td>\n",
              "      <td>1400630400</td>\n",
              "      <td>05 21, 2014</td>\n",
              "    </tr>\n",
              "    <tr>\n",
              "      <th>1</th>\n",
              "      <td>ASY55RVNIL0UD</td>\n",
              "      <td>120401325X</td>\n",
              "      <td>emily l.</td>\n",
              "      <td>[0, 0]</td>\n",
              "      <td>These stickers work like the review says they ...</td>\n",
              "      <td>5</td>\n",
              "      <td>Really great product.</td>\n",
              "      <td>1389657600</td>\n",
              "      <td>01 14, 2014</td>\n",
              "    </tr>\n",
              "    <tr>\n",
              "      <th>2</th>\n",
              "      <td>A2TMXE2AFO7ONB</td>\n",
              "      <td>120401325X</td>\n",
              "      <td>Erica</td>\n",
              "      <td>[0, 0]</td>\n",
              "      <td>These are awesome and make my phone look so st...</td>\n",
              "      <td>5</td>\n",
              "      <td>LOVE LOVE LOVE</td>\n",
              "      <td>1403740800</td>\n",
              "      <td>06 26, 2014</td>\n",
              "    </tr>\n",
              "    <tr>\n",
              "      <th>3</th>\n",
              "      <td>AWJ0WZQYMYFQ4</td>\n",
              "      <td>120401325X</td>\n",
              "      <td>JM</td>\n",
              "      <td>[4, 4]</td>\n",
              "      <td>Item arrived in great time and was in perfect ...</td>\n",
              "      <td>4</td>\n",
              "      <td>Cute!</td>\n",
              "      <td>1382313600</td>\n",
              "      <td>10 21, 2013</td>\n",
              "    </tr>\n",
              "    <tr>\n",
              "      <th>4</th>\n",
              "      <td>ATX7CZYFXI1KW</td>\n",
              "      <td>120401325X</td>\n",
              "      <td>patrice m rogoza</td>\n",
              "      <td>[2, 3]</td>\n",
              "      <td>awesome! stays on, and looks great. can be use...</td>\n",
              "      <td>5</td>\n",
              "      <td>leopard home button sticker for iphone 4s</td>\n",
              "      <td>1359849600</td>\n",
              "      <td>02 3, 2013</td>\n",
              "    </tr>\n",
              "  </tbody>\n",
              "</table>\n",
              "</div>\n",
              "      <button class=\"colab-df-convert\" onclick=\"convertToInteractive('df-0427a4a0-ab0d-41ea-9323-a4ddeb94947a')\"\n",
              "              title=\"Convert this dataframe to an interactive table.\"\n",
              "              style=\"display:none;\">\n",
              "        \n",
              "  <svg xmlns=\"http://www.w3.org/2000/svg\" height=\"24px\"viewBox=\"0 0 24 24\"\n",
              "       width=\"24px\">\n",
              "    <path d=\"M0 0h24v24H0V0z\" fill=\"none\"/>\n",
              "    <path d=\"M18.56 5.44l.94 2.06.94-2.06 2.06-.94-2.06-.94-.94-2.06-.94 2.06-2.06.94zm-11 1L8.5 8.5l.94-2.06 2.06-.94-2.06-.94L8.5 2.5l-.94 2.06-2.06.94zm10 10l.94 2.06.94-2.06 2.06-.94-2.06-.94-.94-2.06-.94 2.06-2.06.94z\"/><path d=\"M17.41 7.96l-1.37-1.37c-.4-.4-.92-.59-1.43-.59-.52 0-1.04.2-1.43.59L10.3 9.45l-7.72 7.72c-.78.78-.78 2.05 0 2.83L4 21.41c.39.39.9.59 1.41.59.51 0 1.02-.2 1.41-.59l7.78-7.78 2.81-2.81c.8-.78.8-2.07 0-2.86zM5.41 20L4 18.59l7.72-7.72 1.47 1.35L5.41 20z\"/>\n",
              "  </svg>\n",
              "      </button>\n",
              "      \n",
              "  <style>\n",
              "    .colab-df-container {\n",
              "      display:flex;\n",
              "      flex-wrap:wrap;\n",
              "      gap: 12px;\n",
              "    }\n",
              "\n",
              "    .colab-df-convert {\n",
              "      background-color: #E8F0FE;\n",
              "      border: none;\n",
              "      border-radius: 50%;\n",
              "      cursor: pointer;\n",
              "      display: none;\n",
              "      fill: #1967D2;\n",
              "      height: 32px;\n",
              "      padding: 0 0 0 0;\n",
              "      width: 32px;\n",
              "    }\n",
              "\n",
              "    .colab-df-convert:hover {\n",
              "      background-color: #E2EBFA;\n",
              "      box-shadow: 0px 1px 2px rgba(60, 64, 67, 0.3), 0px 1px 3px 1px rgba(60, 64, 67, 0.15);\n",
              "      fill: #174EA6;\n",
              "    }\n",
              "\n",
              "    [theme=dark] .colab-df-convert {\n",
              "      background-color: #3B4455;\n",
              "      fill: #D2E3FC;\n",
              "    }\n",
              "\n",
              "    [theme=dark] .colab-df-convert:hover {\n",
              "      background-color: #434B5C;\n",
              "      box-shadow: 0px 1px 3px 1px rgba(0, 0, 0, 0.15);\n",
              "      filter: drop-shadow(0px 1px 2px rgba(0, 0, 0, 0.3));\n",
              "      fill: #FFFFFF;\n",
              "    }\n",
              "  </style>\n",
              "\n",
              "      <script>\n",
              "        const buttonEl =\n",
              "          document.querySelector('#df-0427a4a0-ab0d-41ea-9323-a4ddeb94947a button.colab-df-convert');\n",
              "        buttonEl.style.display =\n",
              "          google.colab.kernel.accessAllowed ? 'block' : 'none';\n",
              "\n",
              "        async function convertToInteractive(key) {\n",
              "          const element = document.querySelector('#df-0427a4a0-ab0d-41ea-9323-a4ddeb94947a');\n",
              "          const dataTable =\n",
              "            await google.colab.kernel.invokeFunction('convertToInteractive',\n",
              "                                                     [key], {});\n",
              "          if (!dataTable) return;\n",
              "\n",
              "          const docLinkHtml = 'Like what you see? Visit the ' +\n",
              "            '<a target=\"_blank\" href=https://colab.research.google.com/notebooks/data_table.ipynb>data table notebook</a>'\n",
              "            + ' to learn more about interactive tables.';\n",
              "          element.innerHTML = '';\n",
              "          dataTable['output_type'] = 'display_data';\n",
              "          await google.colab.output.renderOutput(dataTable, element);\n",
              "          const docLink = document.createElement('div');\n",
              "          docLink.innerHTML = docLinkHtml;\n",
              "          element.appendChild(docLink);\n",
              "        }\n",
              "      </script>\n",
              "    </div>\n",
              "  </div>\n",
              "  "
            ]
          },
          "metadata": {},
          "execution_count": 4
        }
      ]
    },
    {
      "cell_type": "code",
      "source": [
        "df.shape"
      ],
      "metadata": {
        "colab": {
          "base_uri": "https://localhost:8080/"
        },
        "id": "dS4lr8ea82O4",
        "outputId": "1440be21-47a6-4ece-c074-9bc8663c83f9"
      },
      "execution_count": 5,
      "outputs": [
        {
          "output_type": "execute_result",
          "data": {
            "text/plain": [
              "(194439, 9)"
            ]
          },
          "metadata": {},
          "execution_count": 5
        }
      ]
    },
    {
      "cell_type": "code",
      "source": [
        "df.reviewText[0]"
      ],
      "metadata": {
        "colab": {
          "base_uri": "https://localhost:8080/",
          "height": 35
        },
        "id": "cQ9bWwL4-93O",
        "outputId": "375ac732-c8e8-4a96-9867-0bb63c3392fa"
      },
      "execution_count": 6,
      "outputs": [
        {
          "output_type": "execute_result",
          "data": {
            "text/plain": [
              "\"They look good and stick good! I just don't like the rounded shape because I was always bumping it and Siri kept popping up and it was irritating. I just won't buy a product like this again\""
            ],
            "application/vnd.google.colaboratory.intrinsic+json": {
              "type": "string"
            }
          },
          "metadata": {},
          "execution_count": 6
        }
      ]
    },
    {
      "cell_type": "code",
      "source": [
        "# pre-process text\n",
        "gensim.utils.simple_preprocess(\"They look good and stick good!\")"
      ],
      "metadata": {
        "colab": {
          "base_uri": "https://localhost:8080/"
        },
        "id": "putl9OjV_fXF",
        "outputId": "a5d1cc2a-d192-4bcc-8b63-ad8a439366b4"
      },
      "execution_count": 7,
      "outputs": [
        {
          "output_type": "execute_result",
          "data": {
            "text/plain": [
              "['they', 'look', 'good', 'and', 'stick', 'good']"
            ]
          },
          "metadata": {},
          "execution_count": 7
        }
      ]
    },
    {
      "cell_type": "code",
      "source": [
        "review_text = df.reviewText.apply(gensim.utils.simple_preprocess)"
      ],
      "metadata": {
        "id": "mN8bLPEOBtIs"
      },
      "execution_count": 8,
      "outputs": []
    },
    {
      "cell_type": "code",
      "source": [
        "review_text"
      ],
      "metadata": {
        "colab": {
          "base_uri": "https://localhost:8080/"
        },
        "id": "svyrxJjRDYKN",
        "outputId": "d53db463-b066-4582-e045-cb3d08d4d9c3"
      },
      "execution_count": 9,
      "outputs": [
        {
          "output_type": "execute_result",
          "data": {
            "text/plain": [
              "0         [they, look, good, and, stick, good, just, don...\n",
              "1         [these, stickers, work, like, the, review, say...\n",
              "2         [these, are, awesome, and, make, my, phone, lo...\n",
              "3         [item, arrived, in, great, time, and, was, in,...\n",
              "4         [awesome, stays, on, and, looks, great, can, b...\n",
              "                                ...                        \n",
              "194434    [works, great, just, like, my, original, one, ...\n",
              "194435    [great, product, great, packaging, high, quali...\n",
              "194436    [this, is, great, cable, just, as, good, as, t...\n",
              "194437    [really, like, it, becasue, it, works, well, w...\n",
              "194438    [product, as, described, have, wasted, lot, of...\n",
              "Name: reviewText, Length: 194439, dtype: object"
            ]
          },
          "metadata": {},
          "execution_count": 9
        }
      ]
    },
    {
      "cell_type": "code",
      "source": [
        "# gensim is an NLP library and comes with word2vec class\n",
        "# window = 10, means 10 words before the target word and 10 after\n",
        "# min_count = 2, the sentance should be at least two words to be used\n",
        "# workers are the numbers of cpus\n",
        "model = gensim.models.Word2Vec(\n",
        "    window=10,\n",
        "    min_count=2,\n",
        "    workers=4\n",
        ")"
      ],
      "metadata": {
        "id": "7OG-KxY0DfSc"
      },
      "execution_count": 10,
      "outputs": []
    },
    {
      "cell_type": "code",
      "source": [
        "model.build_vocab(review_text, progress_per=1000)"
      ],
      "metadata": {
        "id": "JFjVqsu2EdcT"
      },
      "execution_count": 11,
      "outputs": []
    },
    {
      "cell_type": "code",
      "source": [
        "model.epochs"
      ],
      "metadata": {
        "colab": {
          "base_uri": "https://localhost:8080/"
        },
        "id": "1snJyR0WFI6d",
        "outputId": "fcf03575-c2df-400e-c692-161835d0bdc7"
      },
      "execution_count": 12,
      "outputs": [
        {
          "output_type": "execute_result",
          "data": {
            "text/plain": [
              "5"
            ]
          },
          "metadata": {},
          "execution_count": 12
        }
      ]
    },
    {
      "cell_type": "code",
      "source": [
        "model.corpus_count"
      ],
      "metadata": {
        "colab": {
          "base_uri": "https://localhost:8080/"
        },
        "id": "-cHz39KtFMo_",
        "outputId": "681806ed-ce9f-4318-ed29-bfe1d092fed2"
      },
      "execution_count": 13,
      "outputs": [
        {
          "output_type": "execute_result",
          "data": {
            "text/plain": [
              "194439"
            ]
          },
          "metadata": {},
          "execution_count": 13
        }
      ]
    },
    {
      "cell_type": "code",
      "source": [
        "model.train(review_text, total_examples=model.corpus_count, epochs=model.epochs)"
      ],
      "metadata": {
        "colab": {
          "base_uri": "https://localhost:8080/"
        },
        "id": "l8a2SWMrFd-s",
        "outputId": "9b8e6344-7475-42e8-d19f-01cd111059f9"
      },
      "execution_count": 14,
      "outputs": [
        {
          "output_type": "execute_result",
          "data": {
            "text/plain": [
              "(61503441, 83868975)"
            ]
          },
          "metadata": {},
          "execution_count": 14
        }
      ]
    },
    {
      "cell_type": "code",
      "source": [
        "model.save(\"word2vec-amazon-cell-reviews.model\")"
      ],
      "metadata": {
        "id": "N39rKECiF4-6"
      },
      "execution_count": 15,
      "outputs": []
    },
    {
      "cell_type": "code",
      "source": [
        "model.wv.most_similar(\"bad\")"
      ],
      "metadata": {
        "colab": {
          "base_uri": "https://localhost:8080/"
        },
        "id": "JjxcDNuLGw6k",
        "outputId": "50ca3798-9839-46c9-9a97-d31072d3473a"
      },
      "execution_count": 17,
      "outputs": [
        {
          "output_type": "execute_result",
          "data": {
            "text/plain": [
              "[('terrible', 0.680539608001709),\n",
              " ('shabby', 0.6421434283256531),\n",
              " ('horrible', 0.6017223596572876),\n",
              " ('good', 0.5962475538253784),\n",
              " ('awful', 0.5370529294013977),\n",
              " ('okay', 0.5349499583244324),\n",
              " ('cheap', 0.5286258459091187),\n",
              " ('ok', 0.5197794437408447),\n",
              " ('keen', 0.5179442763328552),\n",
              " ('poor', 0.5176799297332764)]"
            ]
          },
          "metadata": {},
          "execution_count": 17
        }
      ]
    },
    {
      "cell_type": "code",
      "source": [
        "model.wv.similarity(w1=\"expensive\", w2=\"expensive\")"
      ],
      "metadata": {
        "colab": {
          "base_uri": "https://localhost:8080/"
        },
        "id": "dMQKnB2tHYzG",
        "outputId": "811c8a8c-3f96-4d20-fde3-2ffa5d94c3e4"
      },
      "execution_count": 21,
      "outputs": [
        {
          "output_type": "execute_result",
          "data": {
            "text/plain": [
              "0.99999994"
            ]
          },
          "metadata": {},
          "execution_count": 21
        }
      ]
    },
    {
      "cell_type": "code",
      "source": [
        "model.wv.similarity(w1=\"cheap\", w2=\"expensive\")"
      ],
      "metadata": {
        "colab": {
          "base_uri": "https://localhost:8080/"
        },
        "id": "njIzOdJYHwDg",
        "outputId": "8e2b2fd0-fe61-47a9-f581-950d4879acc0"
      },
      "execution_count": 22,
      "outputs": [
        {
          "output_type": "execute_result",
          "data": {
            "text/plain": [
              "0.45277953"
            ]
          },
          "metadata": {},
          "execution_count": 22
        }
      ]
    },
    {
      "cell_type": "code",
      "source": [
        "model.wv.similarity(w1=\"cheap\", w2=\"inexpensive\")"
      ],
      "metadata": {
        "colab": {
          "base_uri": "https://localhost:8080/"
        },
        "id": "IpSshmOSHznm",
        "outputId": "622b4894-7220-40f1-ae3d-07749868edc3"
      },
      "execution_count": 23,
      "outputs": [
        {
          "output_type": "execute_result",
          "data": {
            "text/plain": [
              "0.5217233"
            ]
          },
          "metadata": {},
          "execution_count": 23
        }
      ]
    },
    {
      "cell_type": "code",
      "source": [
        "model.wv.similarity(w1=\"good\", w2=\"great\")"
      ],
      "metadata": {
        "colab": {
          "base_uri": "https://localhost:8080/"
        },
        "id": "j58o_vb3H31X",
        "outputId": "4173ff29-3f1e-4f43-cb89-5a3e9715218a"
      },
      "execution_count": 24,
      "outputs": [
        {
          "output_type": "execute_result",
          "data": {
            "text/plain": [
              "0.77414644"
            ]
          },
          "metadata": {},
          "execution_count": 24
        }
      ]
    }
  ]
}